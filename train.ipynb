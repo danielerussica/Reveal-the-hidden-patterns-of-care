{
 "cells": [
  {
   "cell_type": "code",
   "execution_count": 6,
   "id": "524ef269",
   "metadata": {},
   "outputs": [],
   "source": [
    "import pandas as pd\n",
    "from pandas import read_csv\n",
    "import xgboost as xgb"
   ]
  },
  {
   "cell_type": "markdown",
   "id": "283ad596",
   "metadata": {},
   "source": [
    "CONCATENATE CSV FILES"
   ]
  },
  {
   "cell_type": "code",
   "execution_count": null,
   "id": "9b5fddd8",
   "metadata": {},
   "outputs": [
    {
     "name": "stderr",
     "output_type": "stream",
     "text": [
      "/var/folders/zh/ymws8vv55_bcd4hfyt3fcpp40000gn/T/ipykernel_22380/2000877189.py:3: DtypeWarning: Columns (12) have mixed types. Specify dtype option on import or set low_memory=False.\n",
      "  data.append(pd.read_csv(f'data/data_css_challenge_{i}.csv'))\n",
      "/var/folders/zh/ymws8vv55_bcd4hfyt3fcpp40000gn/T/ipykernel_22380/2000877189.py:3: DtypeWarning: Columns (12) have mixed types. Specify dtype option on import or set low_memory=False.\n",
      "  data.append(pd.read_csv(f'data/data_css_challenge_{i}.csv'))\n",
      "/var/folders/zh/ymws8vv55_bcd4hfyt3fcpp40000gn/T/ipykernel_22380/2000877189.py:3: DtypeWarning: Columns (12) have mixed types. Specify dtype option on import or set low_memory=False.\n",
      "  data.append(pd.read_csv(f'data/data_css_challenge_{i}.csv'))\n",
      "/var/folders/zh/ymws8vv55_bcd4hfyt3fcpp40000gn/T/ipykernel_22380/2000877189.py:3: DtypeWarning: Columns (12) have mixed types. Specify dtype option on import or set low_memory=False.\n",
      "  data.append(pd.read_csv(f'data/data_css_challenge_{i}.csv'))\n",
      "/var/folders/zh/ymws8vv55_bcd4hfyt3fcpp40000gn/T/ipykernel_22380/2000877189.py:3: DtypeWarning: Columns (12) have mixed types. Specify dtype option on import or set low_memory=False.\n",
      "  data.append(pd.read_csv(f'data/data_css_challenge_{i}.csv'))\n",
      "/var/folders/zh/ymws8vv55_bcd4hfyt3fcpp40000gn/T/ipykernel_22380/2000877189.py:3: DtypeWarning: Columns (12) have mixed types. Specify dtype option on import or set low_memory=False.\n",
      "  data.append(pd.read_csv(f'data/data_css_challenge_{i}.csv'))\n",
      "/var/folders/zh/ymws8vv55_bcd4hfyt3fcpp40000gn/T/ipykernel_22380/2000877189.py:3: DtypeWarning: Columns (12) have mixed types. Specify dtype option on import or set low_memory=False.\n",
      "  data.append(pd.read_csv(f'data/data_css_challenge_{i}.csv'))\n",
      "/var/folders/zh/ymws8vv55_bcd4hfyt3fcpp40000gn/T/ipykernel_22380/2000877189.py:3: DtypeWarning: Columns (12) have mixed types. Specify dtype option on import or set low_memory=False.\n",
      "  data.append(pd.read_csv(f'data/data_css_challenge_{i}.csv'))\n",
      "/var/folders/zh/ymws8vv55_bcd4hfyt3fcpp40000gn/T/ipykernel_22380/2000877189.py:3: DtypeWarning: Columns (12) have mixed types. Specify dtype option on import or set low_memory=False.\n",
      "  data.append(pd.read_csv(f'data/data_css_challenge_{i}.csv'))\n",
      "/var/folders/zh/ymws8vv55_bcd4hfyt3fcpp40000gn/T/ipykernel_22380/2000877189.py:3: DtypeWarning: Columns (12) have mixed types. Specify dtype option on import or set low_memory=False.\n",
      "  data.append(pd.read_csv(f'data/data_css_challenge_{i}.csv'))\n"
     ]
    }
   ],
   "source": [
    "data = []\n",
    "for i in range(10):\n",
    "    data.append(pd.read_csv(f'data/data_css_challenge_{i}.csv'))\n",
    "data = pd.concat(data, ignore_index=True)\n",
    "data = data.drop_duplicates()"
   ]
  },
  {
   "cell_type": "markdown",
   "id": "d4d3db6c",
   "metadata": {},
   "source": [
    "TARIFF AND TARIFF_POSITION CONVERSION TO STR"
   ]
  },
  {
   "cell_type": "code",
   "execution_count": 19,
   "id": "589ea686",
   "metadata": {},
   "outputs": [],
   "source": [
    "data[\"tariff\"] = data[\"tariff\"].astype(str)\n",
    "data[\"traiff_position\"] = data[\"tariff_position\"].astype(str)"
   ]
  },
  {
   "cell_type": "code",
   "execution_count": null,
   "id": "8d89d736",
   "metadata": {},
   "outputs": [],
   "source": [
    "#data[\"first_two_digits_tariff_poisition\"] = data[\"tariff_position\"].str[:2]"
   ]
  },
  {
   "cell_type": "markdown",
   "id": "d50a1be4",
   "metadata": {},
   "source": [
    "CLEAN DATA"
   ]
  },
  {
   "cell_type": "code",
   "execution_count": null,
   "id": "332e7a70",
   "metadata": {},
   "outputs": [],
   "source": [
    "mask = data[\"end_date\"].isna()\n",
    "data.loc[mask, \"end_date\"] = data.loc[mask, \"start_date\"]\n",
    "mask = data[\"client_id\"].isna()\n",
    "data.loc[mask, \"client_id\"] = \"Unknown client\"\n",
    "mask = data[\"client_type\"].isna()\n",
    "data.loc[mask, \"client_type\"] = \"unknown\"\n",
    "mask = data[\"tariff_position\"].isna()\n",
    "data.loc[mask, \"tariff_position\"] = \"missing\""
   ]
  }
 ],
 "metadata": {
  "kernelspec": {
   "display_name": "pyg_env",
   "language": "python",
   "name": "python3"
  },
  "language_info": {
   "codemirror_mode": {
    "name": "ipython",
    "version": 3
   },
   "file_extension": ".py",
   "mimetype": "text/x-python",
   "name": "python",
   "nbconvert_exporter": "python",
   "pygments_lexer": "ipython3",
   "version": "3.10.13"
  }
 },
 "nbformat": 4,
 "nbformat_minor": 5
}
